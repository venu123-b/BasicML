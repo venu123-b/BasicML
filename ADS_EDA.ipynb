{
  "nbformat": 4,
  "nbformat_minor": 0,
  "metadata": {
    "colab": {
      "name": "ads.ipynb",
      "provenance": [],
      "collapsed_sections": [],
      "toc_visible": true,
      "include_colab_link": true
    },
    "kernelspec": {
      "name": "python3",
      "display_name": "Python 3"
    },
    "language_info": {
      "name": "python"
    }
  },
  "cells": [
    {
      "cell_type": "markdown",
      "metadata": {
        "id": "view-in-github",
        "colab_type": "text"
      },
      "source": [
        "<a href=\"https://colab.research.google.com/github/venu123-b/BasicML/blob/main/ADS_EDA.ipynb\" target=\"_parent\"><img src=\"https://colab.research.google.com/assets/colab-badge.svg\" alt=\"Open In Colab\"/></a>"
      ]
    },
    {
      "cell_type": "markdown",
      "source": [
        "**IMPORTING LIBRARIES**"
      ],
      "metadata": {
        "id": "Qt6pSiDS_9ZR"
      }
    },
    {
      "cell_type": "code",
      "execution_count": null,
      "metadata": {
        "id": "s_UJ056o8to7"
      },
      "outputs": [],
      "source": [
        "import numpy as np\n",
        "import pandas as pd\n",
        "import seaborn as sns\n",
        "from matplotlib import pyplot as plt"
      ]
    },
    {
      "cell_type": "markdown",
      "source": [
        "**Importing Data**"
      ],
      "metadata": {
        "id": "AFmku0bsAKYC"
      }
    },
    {
      "cell_type": "code",
      "source": [
        "df=pd.read_csv(\"ppp_data_dict.csv\")\n",
        "df1=pd.read_csv(\"ppp_fraud_cases.csv\")\n",
        "df2=pd.read_csv(\"ppp_over_150k.csv\")\n",
        "df.head()\n",
        "df1.head()\n",
        "df2.head()\n"
      ],
      "metadata": {
        "colab": {
          "base_uri": "https://localhost:8080/",
          "height": 369
        },
        "id": "XKFAvt3I-Gdd",
        "outputId": "3dcac04e-4ebf-46ad-dbe8-a00646383e86"
      },
      "execution_count": null,
      "outputs": [
        {
          "output_type": "execute_result",
          "data": {
            "text/plain": [
              "   LoanNumber DateApproved  SBAOfficeCode ProcessingMethod  \\\n",
              "0  9547507704   2020-05-01            464              PPP   \n",
              "1  9777677704   2020-05-01            464              PPP   \n",
              "2  5791407702   2020-05-01           1013              PPP   \n",
              "3  6223567700   2020-05-01            920              PPP   \n",
              "4  9662437702   2020-05-01            101              PPP   \n",
              "\n",
              "               BorrowerName        BorrowerAddress      BorrowerCity  \\\n",
              "0       sumter coatings inc  2410 highway 15 south            sumter   \n",
              "1       pleasant places inc    7684 southrail road  north charleston   \n",
              "2    boyer childrens clinic       1850 boyer ave e           seattle   \n",
              "3  kirtley construction inc   1661 martin ranch rd    san bernardino   \n",
              "4              aero box llc                unknown           unknown   \n",
              "\n",
              "  BorrowerState BorrowerZip LoanStatusDate  ... TOTAL_PROCEED  PROCEED_Diff  \\\n",
              "0           UNK  29150-9662     2020-12-18  ...     769358.78           0.0   \n",
              "1           UNK  29420-9000     2021-09-28  ...     736927.79           0.0   \n",
              "2           UNK  98112-2922     2021-03-17  ...     691355.00           0.0   \n",
              "3           UNK  92407-1740     2021-10-16  ...     499871.00           0.0   \n",
              "4           UNK           0     2021-08-17  ...     367437.00           0.0   \n",
              "\n",
              "   UTILITIES_PROCEED_pct  PAYROLL_PROCEED_pct  MORTGAGE_INTEREST_PROCEED_pct  \\\n",
              "0                    0.0                  1.0                            0.0   \n",
              "1                    0.0                  1.0                            0.0   \n",
              "2                    0.0                  1.0                            0.0   \n",
              "3                    0.0                  1.0                            0.0   \n",
              "4                    0.0                  1.0                            0.0   \n",
              "\n",
              "   RENT_PROCEED_pct REFINANCE_EIDL_PROCEED_pct  HEALTH_CARE_PROCEED_pct  \\\n",
              "0               0.0                        0.0                      0.0   \n",
              "1               0.0                        0.0                      0.0   \n",
              "2               0.0                        0.0                      0.0   \n",
              "3               0.0                        0.0                      0.0   \n",
              "4               0.0                        0.0                      0.0   \n",
              "\n",
              "  DEBT_INTEREST_PROCEED_pct PROCEED_Per_Job  \n",
              "0                       0.0        12409.01  \n",
              "1                       0.0        10094.90  \n",
              "2                       0.0         9218.07  \n",
              "3                       0.0        23803.38  \n",
              "4                       0.0        14697.48  \n",
              "\n",
              "[5 rows x 66 columns]"
            ],
            "text/html": [
              "\n",
              "  <div id=\"df-14497d85-7480-470b-a1e1-97adfef25ab8\">\n",
              "    <div class=\"colab-df-container\">\n",
              "      <div>\n",
              "<style scoped>\n",
              "    .dataframe tbody tr th:only-of-type {\n",
              "        vertical-align: middle;\n",
              "    }\n",
              "\n",
              "    .dataframe tbody tr th {\n",
              "        vertical-align: top;\n",
              "    }\n",
              "\n",
              "    .dataframe thead th {\n",
              "        text-align: right;\n",
              "    }\n",
              "</style>\n",
              "<table border=\"1\" class=\"dataframe\">\n",
              "  <thead>\n",
              "    <tr style=\"text-align: right;\">\n",
              "      <th></th>\n",
              "      <th>LoanNumber</th>\n",
              "      <th>DateApproved</th>\n",
              "      <th>SBAOfficeCode</th>\n",
              "      <th>ProcessingMethod</th>\n",
              "      <th>BorrowerName</th>\n",
              "      <th>BorrowerAddress</th>\n",
              "      <th>BorrowerCity</th>\n",
              "      <th>BorrowerState</th>\n",
              "      <th>BorrowerZip</th>\n",
              "      <th>LoanStatusDate</th>\n",
              "      <th>...</th>\n",
              "      <th>TOTAL_PROCEED</th>\n",
              "      <th>PROCEED_Diff</th>\n",
              "      <th>UTILITIES_PROCEED_pct</th>\n",
              "      <th>PAYROLL_PROCEED_pct</th>\n",
              "      <th>MORTGAGE_INTEREST_PROCEED_pct</th>\n",
              "      <th>RENT_PROCEED_pct</th>\n",
              "      <th>REFINANCE_EIDL_PROCEED_pct</th>\n",
              "      <th>HEALTH_CARE_PROCEED_pct</th>\n",
              "      <th>DEBT_INTEREST_PROCEED_pct</th>\n",
              "      <th>PROCEED_Per_Job</th>\n",
              "    </tr>\n",
              "  </thead>\n",
              "  <tbody>\n",
              "    <tr>\n",
              "      <th>0</th>\n",
              "      <td>9547507704</td>\n",
              "      <td>2020-05-01</td>\n",
              "      <td>464</td>\n",
              "      <td>PPP</td>\n",
              "      <td>sumter coatings inc</td>\n",
              "      <td>2410 highway 15 south</td>\n",
              "      <td>sumter</td>\n",
              "      <td>UNK</td>\n",
              "      <td>29150-9662</td>\n",
              "      <td>2020-12-18</td>\n",
              "      <td>...</td>\n",
              "      <td>769358.78</td>\n",
              "      <td>0.0</td>\n",
              "      <td>0.0</td>\n",
              "      <td>1.0</td>\n",
              "      <td>0.0</td>\n",
              "      <td>0.0</td>\n",
              "      <td>0.0</td>\n",
              "      <td>0.0</td>\n",
              "      <td>0.0</td>\n",
              "      <td>12409.01</td>\n",
              "    </tr>\n",
              "    <tr>\n",
              "      <th>1</th>\n",
              "      <td>9777677704</td>\n",
              "      <td>2020-05-01</td>\n",
              "      <td>464</td>\n",
              "      <td>PPP</td>\n",
              "      <td>pleasant places inc</td>\n",
              "      <td>7684 southrail road</td>\n",
              "      <td>north charleston</td>\n",
              "      <td>UNK</td>\n",
              "      <td>29420-9000</td>\n",
              "      <td>2021-09-28</td>\n",
              "      <td>...</td>\n",
              "      <td>736927.79</td>\n",
              "      <td>0.0</td>\n",
              "      <td>0.0</td>\n",
              "      <td>1.0</td>\n",
              "      <td>0.0</td>\n",
              "      <td>0.0</td>\n",
              "      <td>0.0</td>\n",
              "      <td>0.0</td>\n",
              "      <td>0.0</td>\n",
              "      <td>10094.90</td>\n",
              "    </tr>\n",
              "    <tr>\n",
              "      <th>2</th>\n",
              "      <td>5791407702</td>\n",
              "      <td>2020-05-01</td>\n",
              "      <td>1013</td>\n",
              "      <td>PPP</td>\n",
              "      <td>boyer childrens clinic</td>\n",
              "      <td>1850 boyer ave e</td>\n",
              "      <td>seattle</td>\n",
              "      <td>UNK</td>\n",
              "      <td>98112-2922</td>\n",
              "      <td>2021-03-17</td>\n",
              "      <td>...</td>\n",
              "      <td>691355.00</td>\n",
              "      <td>0.0</td>\n",
              "      <td>0.0</td>\n",
              "      <td>1.0</td>\n",
              "      <td>0.0</td>\n",
              "      <td>0.0</td>\n",
              "      <td>0.0</td>\n",
              "      <td>0.0</td>\n",
              "      <td>0.0</td>\n",
              "      <td>9218.07</td>\n",
              "    </tr>\n",
              "    <tr>\n",
              "      <th>3</th>\n",
              "      <td>6223567700</td>\n",
              "      <td>2020-05-01</td>\n",
              "      <td>920</td>\n",
              "      <td>PPP</td>\n",
              "      <td>kirtley construction inc</td>\n",
              "      <td>1661 martin ranch rd</td>\n",
              "      <td>san bernardino</td>\n",
              "      <td>UNK</td>\n",
              "      <td>92407-1740</td>\n",
              "      <td>2021-10-16</td>\n",
              "      <td>...</td>\n",
              "      <td>499871.00</td>\n",
              "      <td>0.0</td>\n",
              "      <td>0.0</td>\n",
              "      <td>1.0</td>\n",
              "      <td>0.0</td>\n",
              "      <td>0.0</td>\n",
              "      <td>0.0</td>\n",
              "      <td>0.0</td>\n",
              "      <td>0.0</td>\n",
              "      <td>23803.38</td>\n",
              "    </tr>\n",
              "    <tr>\n",
              "      <th>4</th>\n",
              "      <td>9662437702</td>\n",
              "      <td>2020-05-01</td>\n",
              "      <td>101</td>\n",
              "      <td>PPP</td>\n",
              "      <td>aero box llc</td>\n",
              "      <td>unknown</td>\n",
              "      <td>unknown</td>\n",
              "      <td>UNK</td>\n",
              "      <td>0</td>\n",
              "      <td>2021-08-17</td>\n",
              "      <td>...</td>\n",
              "      <td>367437.00</td>\n",
              "      <td>0.0</td>\n",
              "      <td>0.0</td>\n",
              "      <td>1.0</td>\n",
              "      <td>0.0</td>\n",
              "      <td>0.0</td>\n",
              "      <td>0.0</td>\n",
              "      <td>0.0</td>\n",
              "      <td>0.0</td>\n",
              "      <td>14697.48</td>\n",
              "    </tr>\n",
              "  </tbody>\n",
              "</table>\n",
              "<p>5 rows × 66 columns</p>\n",
              "</div>\n",
              "      <button class=\"colab-df-convert\" onclick=\"convertToInteractive('df-14497d85-7480-470b-a1e1-97adfef25ab8')\"\n",
              "              title=\"Convert this dataframe to an interactive table.\"\n",
              "              style=\"display:none;\">\n",
              "        \n",
              "  <svg xmlns=\"http://www.w3.org/2000/svg\" height=\"24px\"viewBox=\"0 0 24 24\"\n",
              "       width=\"24px\">\n",
              "    <path d=\"M0 0h24v24H0V0z\" fill=\"none\"/>\n",
              "    <path d=\"M18.56 5.44l.94 2.06.94-2.06 2.06-.94-2.06-.94-.94-2.06-.94 2.06-2.06.94zm-11 1L8.5 8.5l.94-2.06 2.06-.94-2.06-.94L8.5 2.5l-.94 2.06-2.06.94zm10 10l.94 2.06.94-2.06 2.06-.94-2.06-.94-.94-2.06-.94 2.06-2.06.94z\"/><path d=\"M17.41 7.96l-1.37-1.37c-.4-.4-.92-.59-1.43-.59-.52 0-1.04.2-1.43.59L10.3 9.45l-7.72 7.72c-.78.78-.78 2.05 0 2.83L4 21.41c.39.39.9.59 1.41.59.51 0 1.02-.2 1.41-.59l7.78-7.78 2.81-2.81c.8-.78.8-2.07 0-2.86zM5.41 20L4 18.59l7.72-7.72 1.47 1.35L5.41 20z\"/>\n",
              "  </svg>\n",
              "      </button>\n",
              "      \n",
              "  <style>\n",
              "    .colab-df-container {\n",
              "      display:flex;\n",
              "      flex-wrap:wrap;\n",
              "      gap: 12px;\n",
              "    }\n",
              "\n",
              "    .colab-df-convert {\n",
              "      background-color: #E8F0FE;\n",
              "      border: none;\n",
              "      border-radius: 50%;\n",
              "      cursor: pointer;\n",
              "      display: none;\n",
              "      fill: #1967D2;\n",
              "      height: 32px;\n",
              "      padding: 0 0 0 0;\n",
              "      width: 32px;\n",
              "    }\n",
              "\n",
              "    .colab-df-convert:hover {\n",
              "      background-color: #E2EBFA;\n",
              "      box-shadow: 0px 1px 2px rgba(60, 64, 67, 0.3), 0px 1px 3px 1px rgba(60, 64, 67, 0.15);\n",
              "      fill: #174EA6;\n",
              "    }\n",
              "\n",
              "    [theme=dark] .colab-df-convert {\n",
              "      background-color: #3B4455;\n",
              "      fill: #D2E3FC;\n",
              "    }\n",
              "\n",
              "    [theme=dark] .colab-df-convert:hover {\n",
              "      background-color: #434B5C;\n",
              "      box-shadow: 0px 1px 3px 1px rgba(0, 0, 0, 0.15);\n",
              "      filter: drop-shadow(0px 1px 2px rgba(0, 0, 0, 0.3));\n",
              "      fill: #FFFFFF;\n",
              "    }\n",
              "  </style>\n",
              "\n",
              "      <script>\n",
              "        const buttonEl =\n",
              "          document.querySelector('#df-14497d85-7480-470b-a1e1-97adfef25ab8 button.colab-df-convert');\n",
              "        buttonEl.style.display =\n",
              "          google.colab.kernel.accessAllowed ? 'block' : 'none';\n",
              "\n",
              "        async function convertToInteractive(key) {\n",
              "          const element = document.querySelector('#df-14497d85-7480-470b-a1e1-97adfef25ab8');\n",
              "          const dataTable =\n",
              "            await google.colab.kernel.invokeFunction('convertToInteractive',\n",
              "                                                     [key], {});\n",
              "          if (!dataTable) return;\n",
              "\n",
              "          const docLinkHtml = 'Like what you see? Visit the ' +\n",
              "            '<a target=\"_blank\" href=https://colab.research.google.com/notebooks/data_table.ipynb>data table notebook</a>'\n",
              "            + ' to learn more about interactive tables.';\n",
              "          element.innerHTML = '';\n",
              "          dataTable['output_type'] = 'display_data';\n",
              "          await google.colab.output.renderOutput(dataTable, element);\n",
              "          const docLink = document.createElement('div');\n",
              "          docLink.innerHTML = docLinkHtml;\n",
              "          element.appendChild(docLink);\n",
              "        }\n",
              "      </script>\n",
              "    </div>\n",
              "  </div>\n",
              "  "
            ]
          },
          "metadata": {},
          "execution_count": 3
        }
      ]
    },
    {
      "cell_type": "markdown",
      "source": [
        "**DATA SOURCING**"
      ],
      "metadata": {
        "id": "UlNLbWiYNczo"
      }
    },
    {
      "cell_type": "code",
      "source": [
        "df.info()\n",
        "df1.info()\n",
        "df2.info()\n"
      ],
      "metadata": {
        "colab": {
          "base_uri": "https://localhost:8080/"
        },
        "id": "WGcMNetH_zfc",
        "outputId": "87759ab1-cd19-4a39-927e-cbc46d4145b7"
      },
      "execution_count": null,
      "outputs": [
        {
          "output_type": "stream",
          "name": "stdout",
          "text": [
            "<class 'pandas.core.frame.DataFrame'>\n",
            "RangeIndex: 66 entries, 0 to 65\n",
            "Data columns (total 2 columns):\n",
            " #   Column             Non-Null Count  Dtype \n",
            "---  ------             --------------  ----- \n",
            " 0   Field Name         66 non-null     object\n",
            " 1   Field Description  66 non-null     object\n",
            "dtypes: object(2)\n",
            "memory usage: 1.2+ KB\n",
            "<class 'pandas.core.frame.DataFrame'>\n",
            "RangeIndex: 100 entries, 0 to 99\n",
            "Data columns (total 4 columns):\n",
            " #   Column    Non-Null Count  Dtype \n",
            "---  ------    --------------  ----- \n",
            " 0   Company   100 non-null    object\n",
            " 1   State     100 non-null    object\n",
            " 2   Source    100 non-null    object\n",
            " 3   Suspects  100 non-null    object\n",
            "dtypes: object(4)\n",
            "memory usage: 3.2+ KB\n",
            "<class 'pandas.core.frame.DataFrame'>\n",
            "RangeIndex: 29205 entries, 0 to 29204\n",
            "Data columns (total 66 columns):\n",
            " #   Column                         Non-Null Count  Dtype  \n",
            "---  ------                         --------------  -----  \n",
            " 0   LoanNumber                     29205 non-null  int64  \n",
            " 1   DateApproved                   29205 non-null  object \n",
            " 2   SBAOfficeCode                  29205 non-null  int64  \n",
            " 3   ProcessingMethod               29205 non-null  object \n",
            " 4   BorrowerName                   29205 non-null  object \n",
            " 5   BorrowerAddress                29205 non-null  object \n",
            " 6   BorrowerCity                   29205 non-null  object \n",
            " 7   BorrowerState                  29205 non-null  object \n",
            " 8   BorrowerZip                    29205 non-null  object \n",
            " 9   LoanStatusDate                 29205 non-null  object \n",
            " 10  LoanStatus                     29205 non-null  object \n",
            " 11  Term                           29205 non-null  int64  \n",
            " 12  SBAGuarantyPercentage          29205 non-null  int64  \n",
            " 13  InitialApprovalAmount          29205 non-null  float64\n",
            " 14  CurrentApprovalAmount          29205 non-null  float64\n",
            " 15  UndisbursedAmount              29205 non-null  float64\n",
            " 16  FranchiseName                  29205 non-null  object \n",
            " 17  ServicingLenderLocationID      29205 non-null  int64  \n",
            " 18  ServicingLenderName            29205 non-null  object \n",
            " 19  ServicingLenderAddress         29205 non-null  object \n",
            " 20  ServicingLenderCity            29205 non-null  object \n",
            " 21  ServicingLenderState           29205 non-null  object \n",
            " 22  ServicingLenderZip             29205 non-null  object \n",
            " 23  RuralUrbanIndicator            29205 non-null  object \n",
            " 24  HubzoneIndicator               29205 non-null  object \n",
            " 25  LMIIndicator                   29205 non-null  object \n",
            " 26  BusinessAgeDescription         29205 non-null  object \n",
            " 27  ProjectCity                    29205 non-null  object \n",
            " 28  ProjectCountyName              29205 non-null  object \n",
            " 29  ProjectState                   29205 non-null  object \n",
            " 30  ProjectZip                     29205 non-null  object \n",
            " 31  CD                             29205 non-null  object \n",
            " 32  JobsReported                   29205 non-null  float64\n",
            " 33  NAICSCode                      29205 non-null  int64  \n",
            " 34  Race                           29205 non-null  object \n",
            " 35  Ethnicity                      29205 non-null  object \n",
            " 36  UTILITIES_PROCEED              29205 non-null  float64\n",
            " 37  PAYROLL_PROCEED                29205 non-null  float64\n",
            " 38  MORTGAGE_INTEREST_PROCEED      29205 non-null  float64\n",
            " 39  RENT_PROCEED                   29205 non-null  float64\n",
            " 40  REFINANCE_EIDL_PROCEED         29205 non-null  float64\n",
            " 41  HEALTH_CARE_PROCEED            29205 non-null  float64\n",
            " 42  DEBT_INTEREST_PROCEED          29205 non-null  float64\n",
            " 43  BusinessType                   29205 non-null  object \n",
            " 44  OriginatingLenderLocationID    29205 non-null  int64  \n",
            " 45  OriginatingLender              29205 non-null  object \n",
            " 46  OriginatingLenderCity          29205 non-null  object \n",
            " 47  OriginatingLenderState         29205 non-null  object \n",
            " 48  Gender                         29205 non-null  object \n",
            " 49  Veteran                        29205 non-null  object \n",
            " 50  NonProfit                      29205 non-null  object \n",
            " 51  ForgivenessAmount              29205 non-null  float64\n",
            " 52  ForgivenessDate                29205 non-null  object \n",
            " 53  ApprovalDiff                   29205 non-null  float64\n",
            " 54  NotForgivenAmount              29205 non-null  float64\n",
            " 55  ForgivenPercentage             29205 non-null  float64\n",
            " 56  TOTAL_PROCEED                  29205 non-null  float64\n",
            " 57  PROCEED_Diff                   29204 non-null  float64\n",
            " 58  UTILITIES_PROCEED_pct          29204 non-null  float64\n",
            " 59  PAYROLL_PROCEED_pct            29204 non-null  float64\n",
            " 60  MORTGAGE_INTEREST_PROCEED_pct  29204 non-null  float64\n",
            " 61  RENT_PROCEED_pct               29204 non-null  float64\n",
            " 62  REFINANCE_EIDL_PROCEED_pct     29204 non-null  float64\n",
            " 63  HEALTH_CARE_PROCEED_pct        29204 non-null  float64\n",
            " 64  DEBT_INTEREST_PROCEED_pct      29204 non-null  float64\n",
            " 65  PROCEED_Per_Job                29204 non-null  float64\n",
            "dtypes: float64(25), int64(7), object(34)\n",
            "memory usage: 14.7+ MB\n"
          ]
        }
      ]
    },
    {
      "cell_type": "code",
      "source": [
        "df.describe()\n",
        "df1.describe()\n",
        "df2.describe()"
      ],
      "metadata": {
        "colab": {
          "base_uri": "https://localhost:8080/",
          "height": 394
        },
        "id": "kQvXpITfAUxf",
        "outputId": "fa2b2eb4-85c3-42c6-b86b-36e956d7da4c"
      },
      "execution_count": null,
      "outputs": [
        {
          "output_type": "execute_result",
          "data": {
            "text/plain": [
              "         LoanNumber  SBAOfficeCode          Term  SBAGuarantyPercentage  \\\n",
              "count  2.920500e+04   29205.000000  29205.000000                29205.0   \n",
              "mean   5.483656e+09     734.779764     35.306078                  100.0   \n",
              "std    2.500351e+09     248.893773     16.796951                    0.0   \n",
              "min    1.000627e+09     101.000000      0.000000                  100.0   \n",
              "25%    3.447427e+09     459.000000     24.000000                  100.0   \n",
              "50%    5.508447e+09     669.000000     24.000000                  100.0   \n",
              "75%    7.484797e+09     988.000000     60.000000                  100.0   \n",
              "max    9.998878e+09    1084.000000     60.000000                  100.0   \n",
              "\n",
              "       InitialApprovalAmount  CurrentApprovalAmount  UndisbursedAmount  \\\n",
              "count           2.920500e+04           2.920500e+04            29205.0   \n",
              "mean            5.720336e+05           5.717307e+05                0.0   \n",
              "std             7.508005e+05           7.464537e+05                0.0   \n",
              "min             2.400000e+02           1.500000e+05                0.0   \n",
              "25%             2.300450e+05           2.313000e+05                0.0   \n",
              "50%             3.378510e+05           3.383170e+05                0.0   \n",
              "75%             6.000000e+05           6.000000e+05                0.0   \n",
              "max             1.000000e+07           1.000000e+07                0.0   \n",
              "\n",
              "       ServicingLenderLocationID  JobsReported      NAICSCode  ...  \\\n",
              "count               29205.000000  29205.000000   29205.000000  ...   \n",
              "mean               118096.037973     60.419688  502937.664201  ...   \n",
              "std                155929.707921     73.561835  184542.566037  ...   \n",
              "min                    20.000000      1.000000      81.000000  ...   \n",
              "25%                  4754.000000     22.000000  333999.000000  ...   \n",
              "50%                 48270.000000     36.000000  541110.000000  ...   \n",
              "75%                119671.000000     65.000000  621610.000000  ...   \n",
              "max                532784.000000    500.000000  999990.000000  ...   \n",
              "\n",
              "       TOTAL_PROCEED  PROCEED_Diff  UTILITIES_PROCEED_pct  \\\n",
              "count   2.920500e+04  2.920400e+04           29204.000000   \n",
              "mean    5.717219e+05  5.793732e-01               0.011429   \n",
              "std     7.464588e+05  5.974913e+00               0.050386   \n",
              "min     2.000000e+00 -2.328306e-10               0.000000   \n",
              "25%     2.312308e+05  0.000000e+00               0.000000   \n",
              "50%     3.383170e+05  0.000000e+00               0.000000   \n",
              "75%     6.000000e+05  0.000000e+00               0.000000   \n",
              "max     1.000000e+07  1.000000e+03               1.000000   \n",
              "\n",
              "       PAYROLL_PROCEED_pct  MORTGAGE_INTEREST_PROCEED_pct  RENT_PROCEED_pct  \\\n",
              "count         29204.000000                   29204.000000      29204.000000   \n",
              "mean              0.966809                       0.004862          0.011162   \n",
              "std               0.092031                       0.034465          0.039026   \n",
              "min               0.000000                       0.000000          0.000000   \n",
              "25%               1.000000                       0.000000          0.000000   \n",
              "50%               1.000000                       0.000000          0.000000   \n",
              "75%               1.000000                       0.000000          0.000000   \n",
              "max               1.000000                       1.000000          1.000000   \n",
              "\n",
              "       REFINANCE_EIDL_PROCEED_pct  HEALTH_CARE_PROCEED_pct  \\\n",
              "count                29204.000000             29204.000000   \n",
              "mean                     0.000664                 0.003873   \n",
              "std                      0.023571                 0.023418   \n",
              "min                      0.000000                 0.000000   \n",
              "25%                      0.000000                 0.000000   \n",
              "50%                      0.000000                 0.000000   \n",
              "75%                      0.000000                 0.000000   \n",
              "max                      1.000000                 1.000000   \n",
              "\n",
              "       DEBT_INTEREST_PROCEED_pct  PROCEED_Per_Job  \n",
              "count               29204.000000     2.920400e+04  \n",
              "mean                    0.001197     1.137472e+04  \n",
              "std                     0.012649     1.598759e+04  \n",
              "min                     0.000000     0.000000e+00  \n",
              "25%                     0.000000     7.248547e+03  \n",
              "50%                     0.000000     1.014681e+04  \n",
              "75%                     0.000000     1.356022e+04  \n",
              "max                     1.000000     1.576200e+06  \n",
              "\n",
              "[8 rows x 32 columns]"
            ],
            "text/html": [
              "\n",
              "  <div id=\"df-10988705-c1ed-4bbf-942c-8cd2ed503d3b\">\n",
              "    <div class=\"colab-df-container\">\n",
              "      <div>\n",
              "<style scoped>\n",
              "    .dataframe tbody tr th:only-of-type {\n",
              "        vertical-align: middle;\n",
              "    }\n",
              "\n",
              "    .dataframe tbody tr th {\n",
              "        vertical-align: top;\n",
              "    }\n",
              "\n",
              "    .dataframe thead th {\n",
              "        text-align: right;\n",
              "    }\n",
              "</style>\n",
              "<table border=\"1\" class=\"dataframe\">\n",
              "  <thead>\n",
              "    <tr style=\"text-align: right;\">\n",
              "      <th></th>\n",
              "      <th>LoanNumber</th>\n",
              "      <th>SBAOfficeCode</th>\n",
              "      <th>Term</th>\n",
              "      <th>SBAGuarantyPercentage</th>\n",
              "      <th>InitialApprovalAmount</th>\n",
              "      <th>CurrentApprovalAmount</th>\n",
              "      <th>UndisbursedAmount</th>\n",
              "      <th>ServicingLenderLocationID</th>\n",
              "      <th>JobsReported</th>\n",
              "      <th>NAICSCode</th>\n",
              "      <th>...</th>\n",
              "      <th>TOTAL_PROCEED</th>\n",
              "      <th>PROCEED_Diff</th>\n",
              "      <th>UTILITIES_PROCEED_pct</th>\n",
              "      <th>PAYROLL_PROCEED_pct</th>\n",
              "      <th>MORTGAGE_INTEREST_PROCEED_pct</th>\n",
              "      <th>RENT_PROCEED_pct</th>\n",
              "      <th>REFINANCE_EIDL_PROCEED_pct</th>\n",
              "      <th>HEALTH_CARE_PROCEED_pct</th>\n",
              "      <th>DEBT_INTEREST_PROCEED_pct</th>\n",
              "      <th>PROCEED_Per_Job</th>\n",
              "    </tr>\n",
              "  </thead>\n",
              "  <tbody>\n",
              "    <tr>\n",
              "      <th>count</th>\n",
              "      <td>2.920500e+04</td>\n",
              "      <td>29205.000000</td>\n",
              "      <td>29205.000000</td>\n",
              "      <td>29205.0</td>\n",
              "      <td>2.920500e+04</td>\n",
              "      <td>2.920500e+04</td>\n",
              "      <td>29205.0</td>\n",
              "      <td>29205.000000</td>\n",
              "      <td>29205.000000</td>\n",
              "      <td>29205.000000</td>\n",
              "      <td>...</td>\n",
              "      <td>2.920500e+04</td>\n",
              "      <td>2.920400e+04</td>\n",
              "      <td>29204.000000</td>\n",
              "      <td>29204.000000</td>\n",
              "      <td>29204.000000</td>\n",
              "      <td>29204.000000</td>\n",
              "      <td>29204.000000</td>\n",
              "      <td>29204.000000</td>\n",
              "      <td>29204.000000</td>\n",
              "      <td>2.920400e+04</td>\n",
              "    </tr>\n",
              "    <tr>\n",
              "      <th>mean</th>\n",
              "      <td>5.483656e+09</td>\n",
              "      <td>734.779764</td>\n",
              "      <td>35.306078</td>\n",
              "      <td>100.0</td>\n",
              "      <td>5.720336e+05</td>\n",
              "      <td>5.717307e+05</td>\n",
              "      <td>0.0</td>\n",
              "      <td>118096.037973</td>\n",
              "      <td>60.419688</td>\n",
              "      <td>502937.664201</td>\n",
              "      <td>...</td>\n",
              "      <td>5.717219e+05</td>\n",
              "      <td>5.793732e-01</td>\n",
              "      <td>0.011429</td>\n",
              "      <td>0.966809</td>\n",
              "      <td>0.004862</td>\n",
              "      <td>0.011162</td>\n",
              "      <td>0.000664</td>\n",
              "      <td>0.003873</td>\n",
              "      <td>0.001197</td>\n",
              "      <td>1.137472e+04</td>\n",
              "    </tr>\n",
              "    <tr>\n",
              "      <th>std</th>\n",
              "      <td>2.500351e+09</td>\n",
              "      <td>248.893773</td>\n",
              "      <td>16.796951</td>\n",
              "      <td>0.0</td>\n",
              "      <td>7.508005e+05</td>\n",
              "      <td>7.464537e+05</td>\n",
              "      <td>0.0</td>\n",
              "      <td>155929.707921</td>\n",
              "      <td>73.561835</td>\n",
              "      <td>184542.566037</td>\n",
              "      <td>...</td>\n",
              "      <td>7.464588e+05</td>\n",
              "      <td>5.974913e+00</td>\n",
              "      <td>0.050386</td>\n",
              "      <td>0.092031</td>\n",
              "      <td>0.034465</td>\n",
              "      <td>0.039026</td>\n",
              "      <td>0.023571</td>\n",
              "      <td>0.023418</td>\n",
              "      <td>0.012649</td>\n",
              "      <td>1.598759e+04</td>\n",
              "    </tr>\n",
              "    <tr>\n",
              "      <th>min</th>\n",
              "      <td>1.000627e+09</td>\n",
              "      <td>101.000000</td>\n",
              "      <td>0.000000</td>\n",
              "      <td>100.0</td>\n",
              "      <td>2.400000e+02</td>\n",
              "      <td>1.500000e+05</td>\n",
              "      <td>0.0</td>\n",
              "      <td>20.000000</td>\n",
              "      <td>1.000000</td>\n",
              "      <td>81.000000</td>\n",
              "      <td>...</td>\n",
              "      <td>2.000000e+00</td>\n",
              "      <td>-2.328306e-10</td>\n",
              "      <td>0.000000</td>\n",
              "      <td>0.000000</td>\n",
              "      <td>0.000000</td>\n",
              "      <td>0.000000</td>\n",
              "      <td>0.000000</td>\n",
              "      <td>0.000000</td>\n",
              "      <td>0.000000</td>\n",
              "      <td>0.000000e+00</td>\n",
              "    </tr>\n",
              "    <tr>\n",
              "      <th>25%</th>\n",
              "      <td>3.447427e+09</td>\n",
              "      <td>459.000000</td>\n",
              "      <td>24.000000</td>\n",
              "      <td>100.0</td>\n",
              "      <td>2.300450e+05</td>\n",
              "      <td>2.313000e+05</td>\n",
              "      <td>0.0</td>\n",
              "      <td>4754.000000</td>\n",
              "      <td>22.000000</td>\n",
              "      <td>333999.000000</td>\n",
              "      <td>...</td>\n",
              "      <td>2.312308e+05</td>\n",
              "      <td>0.000000e+00</td>\n",
              "      <td>0.000000</td>\n",
              "      <td>1.000000</td>\n",
              "      <td>0.000000</td>\n",
              "      <td>0.000000</td>\n",
              "      <td>0.000000</td>\n",
              "      <td>0.000000</td>\n",
              "      <td>0.000000</td>\n",
              "      <td>7.248547e+03</td>\n",
              "    </tr>\n",
              "    <tr>\n",
              "      <th>50%</th>\n",
              "      <td>5.508447e+09</td>\n",
              "      <td>669.000000</td>\n",
              "      <td>24.000000</td>\n",
              "      <td>100.0</td>\n",
              "      <td>3.378510e+05</td>\n",
              "      <td>3.383170e+05</td>\n",
              "      <td>0.0</td>\n",
              "      <td>48270.000000</td>\n",
              "      <td>36.000000</td>\n",
              "      <td>541110.000000</td>\n",
              "      <td>...</td>\n",
              "      <td>3.383170e+05</td>\n",
              "      <td>0.000000e+00</td>\n",
              "      <td>0.000000</td>\n",
              "      <td>1.000000</td>\n",
              "      <td>0.000000</td>\n",
              "      <td>0.000000</td>\n",
              "      <td>0.000000</td>\n",
              "      <td>0.000000</td>\n",
              "      <td>0.000000</td>\n",
              "      <td>1.014681e+04</td>\n",
              "    </tr>\n",
              "    <tr>\n",
              "      <th>75%</th>\n",
              "      <td>7.484797e+09</td>\n",
              "      <td>988.000000</td>\n",
              "      <td>60.000000</td>\n",
              "      <td>100.0</td>\n",
              "      <td>6.000000e+05</td>\n",
              "      <td>6.000000e+05</td>\n",
              "      <td>0.0</td>\n",
              "      <td>119671.000000</td>\n",
              "      <td>65.000000</td>\n",
              "      <td>621610.000000</td>\n",
              "      <td>...</td>\n",
              "      <td>6.000000e+05</td>\n",
              "      <td>0.000000e+00</td>\n",
              "      <td>0.000000</td>\n",
              "      <td>1.000000</td>\n",
              "      <td>0.000000</td>\n",
              "      <td>0.000000</td>\n",
              "      <td>0.000000</td>\n",
              "      <td>0.000000</td>\n",
              "      <td>0.000000</td>\n",
              "      <td>1.356022e+04</td>\n",
              "    </tr>\n",
              "    <tr>\n",
              "      <th>max</th>\n",
              "      <td>9.998878e+09</td>\n",
              "      <td>1084.000000</td>\n",
              "      <td>60.000000</td>\n",
              "      <td>100.0</td>\n",
              "      <td>1.000000e+07</td>\n",
              "      <td>1.000000e+07</td>\n",
              "      <td>0.0</td>\n",
              "      <td>532784.000000</td>\n",
              "      <td>500.000000</td>\n",
              "      <td>999990.000000</td>\n",
              "      <td>...</td>\n",
              "      <td>1.000000e+07</td>\n",
              "      <td>1.000000e+03</td>\n",
              "      <td>1.000000</td>\n",
              "      <td>1.000000</td>\n",
              "      <td>1.000000</td>\n",
              "      <td>1.000000</td>\n",
              "      <td>1.000000</td>\n",
              "      <td>1.000000</td>\n",
              "      <td>1.000000</td>\n",
              "      <td>1.576200e+06</td>\n",
              "    </tr>\n",
              "  </tbody>\n",
              "</table>\n",
              "<p>8 rows × 32 columns</p>\n",
              "</div>\n",
              "      <button class=\"colab-df-convert\" onclick=\"convertToInteractive('df-10988705-c1ed-4bbf-942c-8cd2ed503d3b')\"\n",
              "              title=\"Convert this dataframe to an interactive table.\"\n",
              "              style=\"display:none;\">\n",
              "        \n",
              "  <svg xmlns=\"http://www.w3.org/2000/svg\" height=\"24px\"viewBox=\"0 0 24 24\"\n",
              "       width=\"24px\">\n",
              "    <path d=\"M0 0h24v24H0V0z\" fill=\"none\"/>\n",
              "    <path d=\"M18.56 5.44l.94 2.06.94-2.06 2.06-.94-2.06-.94-.94-2.06-.94 2.06-2.06.94zm-11 1L8.5 8.5l.94-2.06 2.06-.94-2.06-.94L8.5 2.5l-.94 2.06-2.06.94zm10 10l.94 2.06.94-2.06 2.06-.94-2.06-.94-.94-2.06-.94 2.06-2.06.94z\"/><path d=\"M17.41 7.96l-1.37-1.37c-.4-.4-.92-.59-1.43-.59-.52 0-1.04.2-1.43.59L10.3 9.45l-7.72 7.72c-.78.78-.78 2.05 0 2.83L4 21.41c.39.39.9.59 1.41.59.51 0 1.02-.2 1.41-.59l7.78-7.78 2.81-2.81c.8-.78.8-2.07 0-2.86zM5.41 20L4 18.59l7.72-7.72 1.47 1.35L5.41 20z\"/>\n",
              "  </svg>\n",
              "      </button>\n",
              "      \n",
              "  <style>\n",
              "    .colab-df-container {\n",
              "      display:flex;\n",
              "      flex-wrap:wrap;\n",
              "      gap: 12px;\n",
              "    }\n",
              "\n",
              "    .colab-df-convert {\n",
              "      background-color: #E8F0FE;\n",
              "      border: none;\n",
              "      border-radius: 50%;\n",
              "      cursor: pointer;\n",
              "      display: none;\n",
              "      fill: #1967D2;\n",
              "      height: 32px;\n",
              "      padding: 0 0 0 0;\n",
              "      width: 32px;\n",
              "    }\n",
              "\n",
              "    .colab-df-convert:hover {\n",
              "      background-color: #E2EBFA;\n",
              "      box-shadow: 0px 1px 2px rgba(60, 64, 67, 0.3), 0px 1px 3px 1px rgba(60, 64, 67, 0.15);\n",
              "      fill: #174EA6;\n",
              "    }\n",
              "\n",
              "    [theme=dark] .colab-df-convert {\n",
              "      background-color: #3B4455;\n",
              "      fill: #D2E3FC;\n",
              "    }\n",
              "\n",
              "    [theme=dark] .colab-df-convert:hover {\n",
              "      background-color: #434B5C;\n",
              "      box-shadow: 0px 1px 3px 1px rgba(0, 0, 0, 0.15);\n",
              "      filter: drop-shadow(0px 1px 2px rgba(0, 0, 0, 0.3));\n",
              "      fill: #FFFFFF;\n",
              "    }\n",
              "  </style>\n",
              "\n",
              "      <script>\n",
              "        const buttonEl =\n",
              "          document.querySelector('#df-10988705-c1ed-4bbf-942c-8cd2ed503d3b button.colab-df-convert');\n",
              "        buttonEl.style.display =\n",
              "          google.colab.kernel.accessAllowed ? 'block' : 'none';\n",
              "\n",
              "        async function convertToInteractive(key) {\n",
              "          const element = document.querySelector('#df-10988705-c1ed-4bbf-942c-8cd2ed503d3b');\n",
              "          const dataTable =\n",
              "            await google.colab.kernel.invokeFunction('convertToInteractive',\n",
              "                                                     [key], {});\n",
              "          if (!dataTable) return;\n",
              "\n",
              "          const docLinkHtml = 'Like what you see? Visit the ' +\n",
              "            '<a target=\"_blank\" href=https://colab.research.google.com/notebooks/data_table.ipynb>data table notebook</a>'\n",
              "            + ' to learn more about interactive tables.';\n",
              "          element.innerHTML = '';\n",
              "          dataTable['output_type'] = 'display_data';\n",
              "          await google.colab.output.renderOutput(dataTable, element);\n",
              "          const docLink = document.createElement('div');\n",
              "          docLink.innerHTML = docLinkHtml;\n",
              "          element.appendChild(docLink);\n",
              "        }\n",
              "      </script>\n",
              "    </div>\n",
              "  </div>\n",
              "  "
            ]
          },
          "metadata": {},
          "execution_count": 8
        }
      ]
    },
    {
      "cell_type": "code",
      "source": [
        "total=df.isnull().sum()\n",
        "total1=df1.isnull().sum()\n",
        "total2=df2.isnull().sum()"
      ],
      "metadata": {
        "id": "lqXqrdrPAfJa"
      },
      "execution_count": null,
      "outputs": []
    },
    {
      "cell_type": "code",
      "source": [
        "df.columns.values\n",
        "df1.columns.values\n",
        "df2.columns.values"
      ],
      "metadata": {
        "colab": {
          "base_uri": "https://localhost:8080/"
        },
        "id": "GIIFazMXBA45",
        "outputId": "19855f47-14f6-40d6-fd19-99f916c10926"
      },
      "execution_count": null,
      "outputs": [
        {
          "output_type": "execute_result",
          "data": {
            "text/plain": [
              "array(['LoanNumber', 'DateApproved', 'SBAOfficeCode', 'ProcessingMethod',\n",
              "       'BorrowerName', 'BorrowerAddress', 'BorrowerCity', 'BorrowerState',\n",
              "       'BorrowerZip', 'LoanStatusDate', 'LoanStatus', 'Term',\n",
              "       'SBAGuarantyPercentage', 'InitialApprovalAmount',\n",
              "       'CurrentApprovalAmount', 'UndisbursedAmount', 'FranchiseName',\n",
              "       'ServicingLenderLocationID', 'ServicingLenderName',\n",
              "       'ServicingLenderAddress', 'ServicingLenderCity',\n",
              "       'ServicingLenderState', 'ServicingLenderZip',\n",
              "       'RuralUrbanIndicator', 'HubzoneIndicator', 'LMIIndicator',\n",
              "       'BusinessAgeDescription', 'ProjectCity', 'ProjectCountyName',\n",
              "       'ProjectState', 'ProjectZip', 'CD', 'JobsReported', 'NAICSCode',\n",
              "       'Race', 'Ethnicity', 'UTILITIES_PROCEED', 'PAYROLL_PROCEED',\n",
              "       'MORTGAGE_INTEREST_PROCEED', 'RENT_PROCEED',\n",
              "       'REFINANCE_EIDL_PROCEED', 'HEALTH_CARE_PROCEED',\n",
              "       'DEBT_INTEREST_PROCEED', 'BusinessType',\n",
              "       'OriginatingLenderLocationID', 'OriginatingLender',\n",
              "       'OriginatingLenderCity', 'OriginatingLenderState', 'Gender',\n",
              "       'Veteran', 'NonProfit', 'ForgivenessAmount', 'ForgivenessDate',\n",
              "       'ApprovalDiff', 'NotForgivenAmount', 'ForgivenPercentage',\n",
              "       'TOTAL_PROCEED', 'PROCEED_Diff', 'UTILITIES_PROCEED_pct',\n",
              "       'PAYROLL_PROCEED_pct', 'MORTGAGE_INTEREST_PROCEED_pct',\n",
              "       'RENT_PROCEED_pct', 'REFINANCE_EIDL_PROCEED_pct',\n",
              "       'HEALTH_CARE_PROCEED_pct', 'DEBT_INTEREST_PROCEED_pct',\n",
              "       'PROCEED_Per_Job'], dtype=object)"
            ]
          },
          "metadata": {},
          "execution_count": 11
        }
      ]
    },
    {
      "cell_type": "code",
      "source": [
        "df.duplicated().sum()\n",
        "df1.duplicated().sum()\n",
        "df2.duplicated().sum()"
      ],
      "metadata": {
        "colab": {
          "base_uri": "https://localhost:8080/"
        },
        "id": "W5T4snSkBMsN",
        "outputId": "d6f64564-a852-4d3c-8a27-f8ebcdde65b4"
      },
      "execution_count": null,
      "outputs": [
        {
          "output_type": "execute_result",
          "data": {
            "text/plain": [
              "0"
            ]
          },
          "metadata": {},
          "execution_count": 13
        }
      ]
    },
    {
      "cell_type": "markdown",
      "source": [
        "**DATA VISUALIZATION**"
      ],
      "metadata": {
        "id": "hdPdcR_yBovF"
      }
    },
    {
      "cell_type": "markdown",
      "source": [
        "*BAR PLOT*"
      ],
      "metadata": {
        "id": "aWXG_ofxBuJA"
      }
    },
    {
      "cell_type": "code",
      "source": [
        "sns.barplot(data=df2,x=\"Term\",y=\"InitialApprovalAmount\")"
      ],
      "metadata": {
        "colab": {
          "base_uri": "https://localhost:8080/",
          "height": 307
        },
        "id": "q72h19yM_Xb7",
        "outputId": "f3ba0e3f-8cb0-4d13-c797-060af3adf2d2"
      },
      "execution_count": null,
      "outputs": [
        {
          "output_type": "execute_result",
          "data": {
            "text/plain": [
              "<matplotlib.axes._subplots.AxesSubplot at 0x7fd8ad1af550>"
            ]
          },
          "metadata": {},
          "execution_count": 4
        },
        {
          "output_type": "display_data",
          "data": {
            "text/plain": [
              "<Figure size 432x288 with 1 Axes>"
            ],
            "image/png": "[encoded data removed]"
          },
          "metadata": {
            "needs_background": "light"
          }
        }
      ]
    },
    {
      "cell_type": "markdown",
      "source": [
        "*HEAT MAP*"
      ],
      "metadata": {
        "id": "DeXvOUwjBysQ"
      }
    },
    {
      "cell_type": "code",
      "source": [
        "sns.heatmap(df1.isnull())"
      ],
      "metadata": {
        "colab": {
          "base_uri": "https://localhost:8080/",
          "height": 286
        },
        "id": "UI0L0UlnB1qu",
        "outputId": "b9732777-1df3-424e-d385-5445387284f3"
      },
      "execution_count": null,
      "outputs": [
        {
          "output_type": "execute_result",
          "data": {
            "text/plain": [
              "<matplotlib.axes._subplots.AxesSubplot at 0x7fd8ae212110>"
            ]
          },
          "metadata": {},
          "execution_count": 15
        },
        {
          "output_type": "display_data",
          "data": {
            "text/plain": [
              "<Figure size 432x288 with 2 Axes>"
            ],
            "image/png": "[encoded data removed]"
          },
          "metadata": {
            "needs_background": "light"
          }
        }
      ]
    },
    {
      "cell_type": "markdown",
      "source": [
        "*LINE PLOT*"
      ],
      "metadata": {
        "id": "ZiGu5oDACCmC"
      }
    },
    {
      "cell_type": "code",
      "source": [
        "sns.lineplot(data=df,x=\"Field Name\",y=\"Field Description\")\n",
        "plt.show()"
      ],
      "metadata": {
        "colab": {
          "base_uri": "https://localhost:8080/",
          "height": 280
        },
        "id": "lDd8DjoUCI1f",
        "outputId": "9fcd23e2-6421-4e0f-ca73-acdbbad04c0d"
      },
      "execution_count": null,
      "outputs": [
        {
          "output_type": "display_data",
          "data": {
            "text/plain": [
              "<Figure size 432x288 with 1 Axes>"
            ],
            "image/png": "[encoded data removed]"
          },
          "metadata": {
            "needs_background": "light"
          }
        }
      ]
    },
    {
      "cell_type": "markdown",
      "source": [
        "*COUNT PLOT*"
      ],
      "metadata": {
        "id": "h3tgAQINCzQu"
      }
    },
    {
      "cell_type": "code",
      "source": [
        "sns.set_style('darkgrid')\n",
        "sns.countplot(x=\"SBAGuarantyPercentage\",hue=\"SBAOfficeCode\",data=df2,palette=\"BuGn\")"
      ],
      "metadata": {
        "colab": {
          "base_uri": "https://localhost:8080/",
          "height": 297
        },
        "id": "Gp2nP8zPCxV4",
        "outputId": "47c0a295-9dd1-4321-c5b8-839e3d6b4629"
      },
      "execution_count": null,
      "outputs": [
        {
          "output_type": "execute_result",
          "data": {
            "text/plain": [
              "<matplotlib.axes._subplots.AxesSubplot at 0x7fd8a6a19850>"
            ]
          },
          "metadata": {},
          "execution_count": 18
        },
        {
          "output_type": "display_data",
          "data": {
            "text/plain": [
              "<Figure size 432x288 with 1 Axes>"
            ],
            "image/png": "[encoded data removed]"
          },
          "metadata": {}
        }
      ]
    },
    {
      "cell_type": "markdown",
      "source": [
        "*DIST PLOT*"
      ],
      "metadata": {
        "id": "QEeBhlPlEAXb"
      }
    },
    {
      "cell_type": "code",
      "source": [
        "sns.distplot(df2['ForgivenPercentage'].dropna(),color=\"blue\",bins=10)"
      ],
      "metadata": {
        "id": "dwa8sYY_D3gf",
        "colab": {
          "base_uri": "https://localhost:8080/",
          "height": 351
        },
        "outputId": "a9106135-2094-4bfa-c05d-19ad6b7d3dca"
      },
      "execution_count": null,
      "outputs": [
        {
          "output_type": "stream",
          "name": "stderr",
          "text": [
            "/usr/local/lib/python3.7/dist-packages/seaborn/distributions.py:2619: FutureWarning: `distplot` is a deprecated function and will be removed in a future version. Please adapt your code to use either `displot` (a figure-level function with similar flexibility) or `histplot` (an axes-level function for histograms).\n",
            "  warnings.warn(msg, FutureWarning)\n"
          ]
        },
        {
          "output_type": "execute_result",
          "data": {
            "text/plain": [
              "<matplotlib.axes._subplots.AxesSubplot at 0x7fd8ad3993d0>"
            ]
          },
          "metadata": {},
          "execution_count": 19
        },
        {
          "output_type": "display_data",
          "data": {
            "text/plain": [
              "<Figure size 432x288 with 1 Axes>"
            ],
            "image/png": "[encoded data removed]"
          },
          "metadata": {}
        }
      ]
    },
    {
      "cell_type": "markdown",
      "source": [
        "*BOX PLOT*"
      ],
      "metadata": {
        "id": "Rs73yIMNF9QH"
      }
    },
    {
      "cell_type": "code",
      "source": [
        "plt.figure(figsize=(10,8))\n",
        "sns.boxplot(x=\"SBAOfficeCode\",y=\"PAYROLL_PROCEED_pct\",data=df2)"
      ],
      "metadata": {
        "colab": {
          "base_uri": "https://localhost:8080/",
          "height": 514
        },
        "id": "ziyhgTSaGEAH",
        "outputId": "c3047b4d-8050-4646-de43-57537f5f56cb"
      },
      "execution_count": null,
      "outputs": [
        {
          "output_type": "execute_result",
          "data": {
            "text/plain": [
              "<matplotlib.axes._subplots.AxesSubplot at 0x7fd82bc60f10>"
            ]
          },
          "metadata": {},
          "execution_count": 27
        },
        {
          "output_type": "display_data",
          "data": {
            "text/plain": [
              "<Figure size 720x576 with 1 Axes>"
            ],
            "image/png": "[encoded data removed]"
          },
          "metadata": {}
        }
      ]
    },
    {
      "cell_type": "markdown",
      "source": [
        "*SCATTER PLOT*"
      ],
      "metadata": {
        "id": "Xp-lEo5pHENF"
      }
    },
    {
      "cell_type": "code",
      "source": [
        "plt.figure(figsize=(6,6))\n",
        "sns.scatterplot(x=\"SBAOfficeCode\",y=\"PROCEED_Diff\",data=df2)"
      ],
      "metadata": {
        "colab": {
          "base_uri": "https://localhost:8080/",
          "height": 405
        },
        "id": "oKf8sDhhHItH",
        "outputId": "25d494fc-47e5-4ef4-8109-d30a2ae9db4e"
      },
      "execution_count": null,
      "outputs": [
        {
          "output_type": "execute_result",
          "data": {
            "text/plain": [
              "<matplotlib.axes._subplots.AxesSubplot at 0x7fd82c080e50>"
            ]
          },
          "metadata": {},
          "execution_count": 22
        },
        {
          "output_type": "display_data",
          "data": {
            "text/plain": [
              "<Figure size 432x432 with 1 Axes>"
            ],
            "image/png": "[encoded data removed]"
          },
          "metadata": {}
        }
      ]
    },
    {
      "cell_type": "markdown",
      "source": [
        "**DATA CLEANING**"
      ],
      "metadata": {
        "id": "NRE5vcuwJJnc"
      }
    },
    {
      "cell_type": "markdown",
      "source": [
        "# There are no null values in the given dataset.Hence,there is no need to clean the dataset."
      ],
      "metadata": {
        "id": "6GtMWFNRJl6d"
      }
    }
  ]
}