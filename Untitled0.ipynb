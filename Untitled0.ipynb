{
  "nbformat": 4,
  "nbformat_minor": 0,
  "metadata": {
    "colab": {
      "name": "Untitled0.ipynb",
      "provenance": [],
      "authorship_tag": "ABX9TyM1hbOYpKqXU6ewdUtpCcTh",
      "include_colab_link": true
    },
    "kernelspec": {
      "name": "python3",
      "display_name": "Python 3"
    },
    "language_info": {
      "name": "python"
    }
  },
  "cells": [
    {
      "cell_type": "markdown",
      "metadata": {
        "id": "view-in-github",
        "colab_type": "text"
      },
      "source": [
        "<a href=\"https://colab.research.google.com/github/venu123-b/BasicML/blob/main/Untitled0.ipynb\" target=\"_parent\"><img src=\"https://colab.research.google.com/assets/colab-badge.svg\" alt=\"Open In Colab\"/></a>"
      ]
    },
    {
      "cell_type": "code",
      "metadata": {
        "id": "-0Z4EwQ0pWPJ"
      },
      "source": [
        "To identify whether a number postive Or negative or zero"
      ],
      "execution_count": null,
      "outputs": []
    },
    {
      "cell_type": "code",
      "metadata": {
        "colab": {
          "base_uri": "https://localhost:8080/"
        },
        "id": "2SpkLur-p9Sn",
        "outputId": "4e4bf2fc-1956-4e69-9dcf-1c403c32ba6d"
      },
      "source": [
        "a=int(input()) \n",
        "if a>0:\n",
        "  print(a, \"is positive number\") \n",
        "elif a<0:\n",
        "  print(a, \" Is negative number \") \n",
        "else:\n",
        "  print(\" Zero\")"
      ],
      "execution_count": 2,
      "outputs": [
        {
          "output_type": "stream",
          "text": [
            "3\n",
            "3 is positive number\n"
          ],
          "name": "stdout"
        }
      ]
    },
    {
      "cell_type": "code",
      "metadata": {
        "id": "DjheDQIjq0m6"
      },
      "source": [
        "Adding a number"
      ],
      "execution_count": null,
      "outputs": []
    },
    {
      "cell_type": "code",
      "metadata": {
        "colab": {
          "base_uri": "https://localhost:8080/"
        },
        "id": "hqKpBPeUq4aJ",
        "outputId": "f22bc385-d6bf-4050-bef9-157fa0a25fa7"
      },
      "source": [
        "a=int(input()) \n",
        "b=int(input()) \n",
        "c=a+b\n",
        "print(c)"
      ],
      "execution_count": 3,
      "outputs": [
        {
          "output_type": "stream",
          "text": [
            "3\n",
            "4\n",
            "7\n"
          ],
          "name": "stdout"
        }
      ]
    },
    {
      "cell_type": "code",
      "metadata": {
        "id": "rWIXAJDerKw7"
      },
      "source": [
        "Odd or even"
      ],
      "execution_count": null,
      "outputs": []
    },
    {
      "cell_type": "code",
      "metadata": {
        "colab": {
          "base_uri": "https://localhost:8080/"
        },
        "id": "Mb7dzIlqrftf",
        "outputId": "cde4dc83-fb20-451f-d0f3-31e4c2b260c9"
      },
      "source": [
        "a=int(input()) \n",
        "if a%2==0:\n",
        "   print(\"even\") \n",
        "else:\n",
        "   print(\"odd\")"
      ],
      "execution_count": 5,
      "outputs": [
        {
          "output_type": "stream",
          "text": [
            "5\n",
            "odd\n"
          ],
          "name": "stdout"
        }
      ]
    }
  ]
}